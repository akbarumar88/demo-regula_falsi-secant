{
 "cells": [
  {
   "cell_type": "markdown",
   "metadata": {},
   "source": [
    "## Program Secant"
   ]
  },
  {
   "cell_type": "markdown",
   "metadata": {},
   "source": [
    "#### Import library yang dibutuhkan"
   ]
  },
  {
   "cell_type": "code",
   "execution_count": 5,
   "metadata": {},
   "outputs": [],
   "source": [
    "import math"
   ]
  },
  {
   "cell_type": "markdown",
   "metadata": {},
   "source": [
    "#### Mendefinisikan fungsi awal F(x)"
   ]
  },
  {
   "cell_type": "code",
   "execution_count": 9,
   "metadata": {},
   "outputs": [],
   "source": [
    "def f(x):\n",
    "    return math.pow(x, 2) - math.exp(x) + 3\n",
    "\n",
    "def printKolom():\n",
    "    print(\"No.\\txi-2\\t\\txi-1\\t\\tx\\t\\tF(xi-2)\\t\\tF(xi-1)\\t\\tF(x)\")"
   ]
  },
  {
   "cell_type": "markdown",
   "metadata": {},
   "source": [
    "#### Mendefinisikan fungsi untuk regula falsi"
   ]
  },
  {
   "cell_type": "code",
   "execution_count": 22,
   "metadata": {},
   "outputs": [],
   "source": [
    "# Agar dinamis, kita menggunakan paramter agar fungsi re-usable\n",
    "def secant(x0, x1, errorTolerant, maxIteration):\n",
    "    printKolom()\n",
    "    # Iterasi sebanyak jumlah max. iterasi\n",
    "    for i in range(maxIteration):\n",
    "        x2 = x1 - (f(x1)*(x1-x0) / (f(x1) - f(x0)))\n",
    "        # Tampilkan Value\n",
    "        print(\"%i.\\t%.9f\\t%.9f\\t%.9f\\t%.9f\\t%.9f\\t%.9f\\n\" % (i+1, x0, x1, x2, f(x0), f(x1), f(x2)));\n",
    "        \n",
    "        # Geser value\n",
    "        x0, x1 = x1, x2\n",
    "        \n",
    "        if (abs(f(x2)) <= errorTolerant): break\n",
    "    \n",
    "    # Kembalikan nilai fungsi\n",
    "    return x2"
   ]
  },
  {
   "cell_type": "markdown",
   "metadata": {},
   "source": [
    "#### Mendefinisikan fungsi main() "
   ]
  },
  {
   "cell_type": "code",
   "execution_count": 24,
   "metadata": {
    "scrolled": false
   },
   "outputs": [
    {
     "name": "stdout",
     "output_type": "stream",
     "text": [
      "Masukkan tebakan x0 : 10\n",
      "Masukkan tebakan x1 : -10\n",
      "Masukkan toleransi error : 0.0000000001\n",
      "Masukkan batas max. iterasi : 30\n",
      "\n",
      "\n",
      "No.\txi-2\t\txi-1\t\tx\t\tF(xi-2)\t\tF(xi-1)\t\tF(x)\n",
      "1.\t10.000000000\t-10.000000000\t-9.906476186\t-21923.465794807\t102.999954600\t101.138220567\n",
      "\n",
      "2.\t-10.000000000\t-9.906476186\t-4.825819126\t102.999954600\t101.138220567\t26.280510251\n",
      "\n",
      "3.\t-9.906476186\t-4.825819126\t-3.042138335\t101.138220567\t26.280510251\t12.206872935\n",
      "\n",
      "4.\t-4.825819126\t-3.042138335\t-1.495049669\t26.280510251\t12.206872935\t5.010936047\n",
      "\n",
      "5.\t-3.042138335\t-1.495049669\t-0.417724717\t12.206872935\t5.010936047\t2.515950451\n",
      "\n",
      "6.\t-1.495049669\t-0.417724717\t0.668652776\t5.010936047\t2.515950451\t1.495490237\n",
      "\n",
      "7.\t-0.417724717\t0.668652776\t2.260745161\t2.515950451\t1.495490237\t-1.479264088\n",
      "\n",
      "8.\t0.668652776\t2.260745161\t1.469041096\t1.495490237\t-1.479264088\t0.813015100\n",
      "\n",
      "9.\t2.260745161\t1.469041096\t1.749839074\t-1.479264088\t0.813015100\t0.308260100\n",
      "\n",
      "10.\t1.469041096\t1.749839074\t1.921325860\t0.813015100\t0.308260100\t-0.138515042\n",
      "\n",
      "11.\t1.749839074\t1.921325860\t1.868159295\t0.308260100\t-0.138515042\t0.013654806\n",
      "\n",
      "12.\t1.921325860\t1.868159295\t1.872930143\t-0.138515042\t0.013654806\t0.000531405\n",
      "\n",
      "13.\t1.868159295\t1.872930143\t1.873123328\t0.013654806\t0.000531405\t-0.000002156\n",
      "\n",
      "14.\t1.872930143\t1.873123328\t1.873122548\t0.000531405\t-0.000002156\t0.000000000\n",
      "\n",
      "15.\t1.873123328\t1.873122548\t1.873122548\t-0.000002156\t0.000000000\t0.000000000\n",
      "\n",
      "Akar dari fungsi x^2 - exp^x + 3 adalah : 1.873122548\n"
     ]
    }
   ],
   "source": [
    "# Input Data\n",
    "x0 = float(input(\"Masukkan tebakan x0 : \"))\n",
    "x1 = float(input(\"Masukkan tebakan x1 : \"))    \n",
    "        \n",
    "# Input toleransi eror dan max. iterasi\n",
    "errorTolerant = float(input(\"Masukkan toleransi error : \"))\n",
    "maxIteration = int(input(\"Masukkan batas max. iterasi : \"))\n",
    "print(\"\\n\")\n",
    "\n",
    "root = secant(x0, x1, errorTolerant, maxIteration)\n",
    "print(\"Akar dari fungsi x^2 - exp^x + 3 adalah : %.9f\" % root)"
   ]
  }
 ],
 "metadata": {
  "kernelspec": {
   "display_name": "Python 3",
   "language": "python",
   "name": "python3"
  },
  "language_info": {
   "codemirror_mode": {
    "name": "ipython",
    "version": 3
   },
   "file_extension": ".py",
   "mimetype": "text/x-python",
   "name": "python",
   "nbconvert_exporter": "python",
   "pygments_lexer": "ipython3",
   "version": "3.8.3"
  }
 },
 "nbformat": 4,
 "nbformat_minor": 4
}
