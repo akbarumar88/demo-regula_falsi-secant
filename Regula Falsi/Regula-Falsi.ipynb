{
 "cells": [
  {
   "cell_type": "markdown",
   "metadata": {},
   "source": [
    "## Program Regula Falsi"
   ]
  },
  {
   "cell_type": "markdown",
   "metadata": {},
   "source": [
    "#### Import library yang dibutuhkan"
   ]
  },
  {
   "cell_type": "code",
   "execution_count": 12,
   "metadata": {},
   "outputs": [],
   "source": [
    "import math"
   ]
  },
  {
   "cell_type": "markdown",
   "metadata": {},
   "source": [
    "#### Mendefinisikan fungsi awal F(x)"
   ]
  },
  {
   "cell_type": "code",
   "execution_count": 13,
   "metadata": {},
   "outputs": [],
   "source": [
    "def f(x):\n",
    "    return math.pow(x, 2) - math.exp(x) + 3\n",
    "\n",
    "def printKolom():\n",
    "    print(\"No.\\ta\\t\\tc\\t\\tb\\t\\tF(a)\\t\\tF(c)\")"
   ]
  },
  {
   "cell_type": "markdown",
   "metadata": {},
   "source": [
    "#### Mendefinisikan fungsi untuk regula falsi"
   ]
  },
  {
   "cell_type": "code",
   "execution_count": 14,
   "metadata": {},
   "outputs": [],
   "source": [
    "# Agar dinamis, kita menggunakan paramter agar fungsi re-usable\n",
    "def regulaFalsi(a, b, errorTolerant, maxIteration):\n",
    "    c = 0\n",
    "    printKolom()\n",
    "    # Iterasi sebanyak jumlah max. iterasi\n",
    "    for i in range(maxIteration):\n",
    "        c = (f(b)*a - f(a)*b) / (f(b) - f(a));\n",
    "        Fc = f(c);\n",
    "        # Tampilkan Value\n",
    "        print(\"%i.\\t%.9f\\t%.9f\\t%.9f\\t%.9f\\t%.9f\\n\" % (i+1, a, c, b, f(a), Fc));\n",
    "\n",
    "        if (f(a) * Fc > 0):\n",
    "            a = c;\n",
    "        else:\n",
    "            b = c;\n",
    "\n",
    "        if (abs(Fc) <= errorTolerant): break\n",
    "    \n",
    "    # Kembalikan nilai fungsi\n",
    "    return c"
   ]
  },
  {
   "cell_type": "markdown",
   "metadata": {},
   "source": [
    "#### Mendefinisikan fungsi main() "
   ]
  },
  {
   "cell_type": "code",
   "execution_count": 15,
   "metadata": {
    "scrolled": false
   },
   "outputs": [
    {
     "name": "stdout",
     "output_type": "stream",
     "text": [
      "Masukkan batas bawah : 0\n",
      "Masukkan batas atas : 1\n",
      "Diantara range yang diinputkan tidak terdapat akar, harap coba lagi\n",
      "\n",
      "Masukkan batas bawah : 3\n",
      "Masukkan batas atas : 4\n",
      "Diantara range yang diinputkan tidak terdapat akar, harap coba lagi\n",
      "\n",
      "Masukkan batas bawah : 1\n",
      "Masukkan batas atas : 2\n",
      "Masukkan toleransi error : 0.0000001\n",
      "Masukkan batas max. iterasi : 20\n",
      "\n",
      "\n",
      "No.\ta\t\tc\t\tb\t\tF(a)\t\tF(c)\n",
      "1.\t1.000000000\t1.767140238\t2.000000000\t1.281718172\t0.268696519\n",
      "\n",
      "2.\t1.767140238\t1.862265070\t2.000000000\t0.268696519\t0.029727714\n",
      "\n",
      "3.\t1.862265070\t1.872042298\t2.000000000\t0.029727714\t0.002981391\n",
      "\n",
      "4.\t1.872042298\t1.873015399\t2.000000000\t0.002981391\t0.000295957\n",
      "\n",
      "5.\t1.873015399\t1.873111923\t2.000000000\t0.000295957\t0.000029349\n",
      "\n",
      "6.\t1.873111923\t1.873121494\t2.000000000\t0.000029349\t0.000002910\n",
      "\n",
      "7.\t1.873121494\t1.873122443\t2.000000000\t0.000002910\t0.000000289\n",
      "\n",
      "8.\t1.873122443\t1.873122537\t2.000000000\t0.000000289\t0.000000029\n",
      "\n",
      "Akar dari fungsi x^2 - exp^x + 3 adalah : 1.873122537\n"
     ]
    }
   ],
   "source": [
    "# Input Data\n",
    "while True:\n",
    "    a = float(input(\"Masukkan batas bawah : \"))\n",
    "    b = float(input(\"Masukkan batas atas : \"))\n",
    "    \n",
    "\n",
    "    # Melakukan pengecekan, apakah diantara range tersebut terdapat akar\n",
    "    if (f(a) * f(b) > 0):\n",
    "        print(\"Diantara range yang diinputkan tidak terdapat akar, harap coba lagi\\n\")\n",
    "    else:\n",
    "        break\n",
    "        \n",
    "# Input toleransi eror dan max. iterasi\n",
    "errorTolerant = float(input(\"Masukkan toleransi error : \"))\n",
    "maxIteration = int(input(\"Masukkan batas max. iterasi : \"))\n",
    "print(\"\\n\")\n",
    "\n",
    "root = regulaFalsi(a, b, errorTolerant, maxIteration)\n",
    "print(\"Akar dari fungsi x^2 - exp^x + 3 adalah : %.9f\" % root)"
   ]
  },
  {
   "cell_type": "code",
   "execution_count": null,
   "metadata": {},
   "outputs": [],
   "source": []
  }
 ],
 "metadata": {
  "kernelspec": {
   "display_name": "Python 3",
   "language": "python",
   "name": "python3"
  },
  "language_info": {
   "codemirror_mode": {
    "name": "ipython",
    "version": 3
   },
   "file_extension": ".py",
   "mimetype": "text/x-python",
   "name": "python",
   "nbconvert_exporter": "python",
   "pygments_lexer": "ipython3",
   "version": "3.8.3"
  }
 },
 "nbformat": 4,
 "nbformat_minor": 4
}
