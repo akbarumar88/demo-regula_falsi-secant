{
 "cells": [
  {
   "cell_type": "markdown",
   "metadata": {},
   "source": [
    "## Program Secant"
   ]
  },
  {
   "cell_type": "markdown",
   "metadata": {},
   "source": [
    "#### Import library yang dibutuhkan"
   ]
  },
  {
   "cell_type": "code",
   "execution_count": 9,
   "metadata": {},
   "outputs": [],
   "source": [
    "import math"
   ]
  },
  {
   "cell_type": "markdown",
   "metadata": {},
   "source": [
    "#### Mendefinisikan fungsi awal F(x)"
   ]
  },
  {
   "cell_type": "code",
   "execution_count": 10,
   "metadata": {},
   "outputs": [],
   "source": [
    "def f(x):\n",
    "    return math.pow(x, 2) - math.exp(x) + 3\n",
    "\n",
    "def printKolom():\n",
    "    print(\"No.\\txi-2\\t\\txi-1\\t\\tx\\t\\tF(xi-2)\\t\\tF(xi-1)\\t\\tF(x)\")"
   ]
  },
  {
   "cell_type": "markdown",
   "metadata": {},
   "source": [
    "#### Mendefinisikan fungsi untuk secant"
   ]
  },
  {
   "cell_type": "code",
   "execution_count": 11,
   "metadata": {},
   "outputs": [],
   "source": [
    "# Agar dinamis, kita menggunakan paramter agar fungsi re-usable\n",
    "def secant(x0, x1, errorTolerant, maxIteration):\n",
    "    printKolom()\n",
    "    # Iterasi sebanyak jumlah max. iterasi\n",
    "    for i in range(maxIteration):\n",
    "        x2 = x1 - (f(x1)*(x1-x0) / (f(x1) - f(x0)))\n",
    "        # Tampilkan Value\n",
    "        print(\"%i.\\t%.9f\\t%.9f\\t%.9f\\t%.9f\\t%.9f\\t%.9f\\n\" % (i+1, x0, x1, x2, f(x0), f(x1), f(x2)));\n",
    "        \n",
    "        # Geser value\n",
    "        x0, x1 = x1, x2\n",
    "        \n",
    "        if (abs(f(x2)) <= errorTolerant): break\n",
    "    \n",
    "    # Kembalikan nilai fungsi\n",
    "    return x2"
   ]
  },
  {
   "cell_type": "markdown",
   "metadata": {},
   "source": [
    "#### Mendefinisikan fungsi main() "
   ]
  },
  {
   "cell_type": "code",
   "execution_count": 12,
   "metadata": {
    "scrolled": false
   },
   "outputs": [
    {
     "name": "stdout",
     "output_type": "stream",
     "text": [
      "Masukkan tebakan x0 : 1\n",
      "Masukkan tebakan x1 : 2\n",
      "Masukkan toleransi error : 0.0000001\n",
      "Masukkan batas max. iterasi : 15\n",
      "\n",
      "\n",
      "No.\txi-2\t\txi-1\t\tx\t\tF(xi-2)\t\tF(xi-1)\t\tF(x)\n",
      "1.\t1.000000000\t2.000000000\t1.767140238\t1.281718172\t-0.389056099\t0.268696519\n",
      "\n",
      "2.\t2.000000000\t1.767140238\t1.862265070\t-0.389056099\t0.268696519\t0.029727714\n",
      "\n",
      "3.\t1.767140238\t1.862265070\t1.874098597\t0.268696519\t0.029727714\t-0.002698333\n",
      "\n",
      "4.\t1.862265070\t1.874098597\t1.873113871\t0.029727714\t-0.002698333\t0.000023969\n",
      "\n",
      "5.\t1.874098597\t1.873113871\t1.873122541\t-0.002698333\t0.000023969\t0.000000019\n",
      "\n",
      "Akar dari fungsi x^2 - exp^x + 3 adalah : 1.873122541\n"
     ]
    }
   ],
   "source": [
    "# Input Data\n",
    "x0 = float(input(\"Masukkan tebakan x0 : \"))\n",
    "x1 = float(input(\"Masukkan tebakan x1 : \"))    \n",
    "        \n",
    "# Input toleransi eror dan max. iterasi\n",
    "errorTolerant = float(input(\"Masukkan toleransi error : \"))\n",
    "maxIteration = int(input(\"Masukkan batas max. iterasi : \"))\n",
    "print(\"\\n\")\n",
    "\n",
    "root = secant(x0, x1, errorTolerant, maxIteration)\n",
    "print(\"Akar dari fungsi x^2 - exp^x + 3 adalah : %.9f\" % root)"
   ]
  },
  {
   "cell_type": "code",
   "execution_count": null,
   "metadata": {},
   "outputs": [],
   "source": []
  }
 ],
 "metadata": {
  "kernelspec": {
   "display_name": "Python 3",
   "language": "python",
   "name": "python3"
  },
  "language_info": {
   "codemirror_mode": {
    "name": "ipython",
    "version": 3
   },
   "file_extension": ".py",
   "mimetype": "text/x-python",
   "name": "python",
   "nbconvert_exporter": "python",
   "pygments_lexer": "ipython3",
   "version": "3.8.3"
  }
 },
 "nbformat": 4,
 "nbformat_minor": 4
}
