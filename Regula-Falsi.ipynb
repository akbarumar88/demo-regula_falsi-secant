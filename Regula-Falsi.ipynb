{
 "cells": [
  {
   "cell_type": "markdown",
   "metadata": {},
   "source": [
    "## Program Regula Falsi"
   ]
  },
  {
   "cell_type": "markdown",
   "metadata": {},
   "source": [
    "#### Import library yang dibutuhkan"
   ]
  },
  {
   "cell_type": "code",
   "execution_count": 7,
   "metadata": {},
   "outputs": [],
   "source": [
    "import math"
   ]
  },
  {
   "cell_type": "markdown",
   "metadata": {},
   "source": [
    "#### Mendefinisikan fungsi awal F(x)"
   ]
  },
  {
   "cell_type": "code",
   "execution_count": 17,
   "metadata": {},
   "outputs": [],
   "source": [
    "def f(x):\n",
    "    return math.pow(x, 2) - math.exp(x) + 3"
   ]
  },
  {
   "cell_type": "markdown",
   "metadata": {},
   "source": [
    "#### Mendefinisikan fungsi untuk regula falsi"
   ]
  },
  {
   "cell_type": "code",
   "execution_count": 15,
   "metadata": {},
   "outputs": [],
   "source": [
    "# Agar dinamis, kita menggunakan paramter agar fungsi re-usable\n",
    "def regulaFalsi(a, b, errorTolerant, maxIteration):\n",
    "    i = 0\n",
    "    while True:\n",
    "        c = (f(b)*a - f(a)*b) / (f(b) - f(a));\n",
    "        Fc = f(c);\n",
    "        # Tampilkan Value\n",
    "        print(\"%i  %.9f\\t%.9f\\t%.9f\\t%.9f\\t%.9f\\n\" % (i+1, a, c, b, f(a), Fc));\n",
    "\n",
    "        if (f(a) * Fc > 0):\n",
    "            a = c;\n",
    "        else:\n",
    "            b = c;\n",
    "        i += 1\n",
    "        if (Fc <= errorTolerant): break"
   ]
  },
  {
   "cell_type": "markdown",
   "metadata": {},
   "source": [
    "#### Mendefinisikan fungsi main() "
   ]
  },
  {
   "cell_type": "code",
   "execution_count": 19,
   "metadata": {},
   "outputs": [
    {
     "name": "stdout",
     "output_type": "stream",
     "text": [
      "Masukkan batas bawah : 2\n",
      "Masukkan batas atas : 3\n",
      "Diantara range yang diinputkan tidak terdapat akar, harap coba lagi\n",
      "Masukkan batas bawah : 1.9\n",
      "Masukkan batas atas : 2\n",
      "Diantara range yang diinputkan tidak terdapat akar, harap coba lagi\n",
      "Masukkan batas bawah : 1\n",
      "Masukkan batas atas : 2\n",
      "Masukkan batas toleransi error : 0.0000001\n",
      "Masukkan batas max. iterasi : 10\n"
     ]
    }
   ],
   "source": [
    "# Input Data\n",
    "while True:\n",
    "    a = float(input(\"Masukkan batas bawah : \"))\n",
    "    b = float(input(\"Masukkan batas atas : \"))\n",
    "    \n",
    "\n",
    "    # Melakukan pengecekan, apakah diantara range tersebut terdapat akar\n",
    "    if (f(a) * f(b) > 0):\n",
    "        print(\"Diantara range yang diinputkan tidak terdapat akar, harap coba lagi\")\n",
    "    else:\n",
    "        break\n",
    "        \n",
    "#Input toleransi eror dan max. iterasi\n",
    "errorTolerant = float(input(\"Masukkan toleransi error : \"))\n",
    "maxIteration = float(input(\"Masukkan batas max. iterasi : \"))"
   ]
  },
  {
   "cell_type": "code",
   "execution_count": null,
   "metadata": {},
   "outputs": [],
   "source": []
  }
 ],
 "metadata": {
  "kernelspec": {
   "display_name": "Python 3",
   "language": "python",
   "name": "python3"
  },
  "language_info": {
   "codemirror_mode": {
    "name": "ipython",
    "version": 3
   },
   "file_extension": ".py",
   "mimetype": "text/x-python",
   "name": "python",
   "nbconvert_exporter": "python",
   "pygments_lexer": "ipython3",
   "version": "3.8.3"
  }
 },
 "nbformat": 4,
 "nbformat_minor": 4
}
